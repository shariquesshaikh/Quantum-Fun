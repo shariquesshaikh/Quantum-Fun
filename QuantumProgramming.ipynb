{
  "nbformat": 4,
  "nbformat_minor": 0,
  "metadata": {
    "colab": {
      "name": "QuantumProgramming.ipynb",
      "provenance": [],
      "authorship_tag": "ABX9TyPpyJ5L36dC6j2Dv81lD/oJ",
      "include_colab_link": true
    },
    "kernelspec": {
      "name": "python3",
      "display_name": "Python 3"
    }
  },
  "cells": [
    {
      "cell_type": "markdown",
      "metadata": {
        "id": "view-in-github",
        "colab_type": "text"
      },
      "source": [
        "<a href=\"https://colab.research.google.com/github/sk-sharique/QuantumComputing/blob/master/QuantumProgramming.ipynb\" target=\"_parent\"><img src=\"https://colab.research.google.com/assets/colab-badge.svg\" alt=\"Open In Colab\"/></a>"
      ]
    },
    {
      "cell_type": "markdown",
      "metadata": {
        "id": "5dGgm7iiW-CC",
        "colab_type": "text"
      },
      "source": [
        "##**Welcome to Quantum World!**\n",
        "\n",
        "We are going to implement a quantum program using one of the famous, open source Quantum Computing framework **Qiskit** with an **IBM Q** quantum processor. "
      ]
    },
    {
      "cell_type": "code",
      "metadata": {
        "id": "y9szHcZCW2GJ",
        "colab_type": "code",
        "colab": {}
      },
      "source": [
        "pip install qiskit numpy matplotlib qiskit-ibmq-provider"
      ],
      "execution_count": 0,
      "outputs": []
    },
    {
      "cell_type": "code",
      "metadata": {
        "id": "RVpIzJkiWxcM",
        "colab_type": "code",
        "colab": {}
      },
      "source": [
        "import qiskit as q"
      ],
      "execution_count": 0,
      "outputs": []
    },
    {
      "cell_type": "code",
      "metadata": {
        "id": "o6_C9UruXX_x",
        "colab_type": "code",
        "colab": {}
      },
      "source": [
        "circuit = q.QuantumCircuit(2,2) # 2 quantum bits, 2 classical bits"
      ],
      "execution_count": 0,
      "outputs": []
    },
    {
      "cell_type": "markdown",
      "metadata": {
        "id": "KZSxm65Tmvtr",
        "colab_type": "text"
      },
      "source": [
        "Apply X gate to a specified qubit. An X gate implements a pi rotation of the qubit state vector about the x axis of the Bloch sphere. This gate is canonically used to implement a bit flip on the qubit state from |0⟩ to |1⟩, or vice versa."
      ]
    },
    {
      "cell_type": "code",
      "metadata": {
        "id": "LDRVvN3EXbxH",
        "colab_type": "code",
        "colab": {
          "base_uri": "https://localhost:8080/",
          "height": 34
        },
        "outputId": "a4450300-5d38-4e03-af31-5e62a72d87e0"
      },
      "source": [
        "#initially we consider: (0,0)\n",
        "circuit.x(0)"
      ],
      "execution_count": 4,
      "outputs": [
        {
          "output_type": "execute_result",
          "data": {
            "text/plain": [
              "<qiskit.circuit.instructionset.InstructionSet at 0x7f1aef2e1400>"
            ]
          },
          "metadata": {
            "tags": []
          },
          "execution_count": 4
        }
      ]
    },
    {
      "cell_type": "markdown",
      "metadata": {
        "id": "wsuKEW5gnmSW",
        "colab_type": "text"
      },
      "source": [
        "Apply CX gate from a specified control(control_qubit) to target(target_qubit) qubit. A CX gate implements a pi rotation of the qubit state vector about the x axis of the Bloch sphere when the control qubit in state |1⟩. This gate is canonically used to implement a bit flip on the qubit state from |0⟩ to |1⟩, or vice versa when the control qubit is |1⟩."
      ]
    },
    {
      "cell_type": "code",
      "metadata": {
        "id": "8RCeTwZAiqLt",
        "colab_type": "code",
        "colab": {
          "base_uri": "https://localhost:8080/",
          "height": 34
        },
        "outputId": "6b57e962-7e5c-4bbc-be80-8f7c130cfa44"
      },
      "source": [
        "#(1,0)\n",
        "circuit.cx(0,1) #flips target qubit iff control qubit is 1"
      ],
      "execution_count": 5,
      "outputs": [
        {
          "output_type": "execute_result",
          "data": {
            "text/plain": [
              "<qiskit.circuit.instructionset.InstructionSet at 0x7f1aef2d36d8>"
            ]
          },
          "metadata": {
            "tags": []
          },
          "execution_count": 5
        }
      ]
    },
    {
      "cell_type": "markdown",
      "metadata": {
        "id": "u6XxkoFcjCqK",
        "colab_type": "text"
      },
      "source": [
        "At this point we have (1,1) as a final result\n"
      ]
    },
    {
      "cell_type": "markdown",
      "metadata": {
        "id": "wizCIZvSojCN",
        "colab_type": "text"
      },
      "source": [
        "circuit.measure(quantum_bit/qubit, classical_bit/cbit)\n",
        "\n",
        "Measure quantum bit into classical bit(tuples)."
      ]
    },
    {
      "cell_type": "code",
      "metadata": {
        "id": "x-lwLfcgjPEd",
        "colab_type": "code",
        "colab": {
          "base_uri": "https://localhost:8080/",
          "height": 34
        },
        "outputId": "55ad3ae8-1c02-42a1-9142-611ea0936582"
      },
      "source": [
        "circuit.measure([0,1],[0,1]) "
      ],
      "execution_count": 6,
      "outputs": [
        {
          "output_type": "execute_result",
          "data": {
            "text/plain": [
              "<qiskit.circuit.instructionset.InstructionSet at 0x7f1aef2c1cc0>"
            ]
          },
          "metadata": {
            "tags": []
          },
          "execution_count": 6
        }
      ]
    },
    {
      "cell_type": "code",
      "metadata": {
        "id": "ZP01h9XcjXJN",
        "colab_type": "code",
        "colab": {
          "base_uri": "https://localhost:8080/",
          "height": 170
        },
        "outputId": "e744ec31-2785-4b06-ad7b-49e474510257"
      },
      "source": [
        "circuit.draw()"
      ],
      "execution_count": 7,
      "outputs": [
        {
          "output_type": "execute_result",
          "data": {
            "text/html": [
              "<pre style=\"word-wrap: normal;white-space: pre;background: #fff0;line-height: 1.1;font-family: &quot;Courier New&quot;,Courier,monospace\">        ┌───┐     ┌─┐   \n",
              "q_0: |0>┤ X ├──■──┤M├───\n",
              "        └───┘┌─┴─┐└╥┘┌─┐\n",
              "q_1: |0>─────┤ X ├─╫─┤M├\n",
              "             └───┘ ║ └╥┘\n",
              " c_0: 0 ═══════════╩══╬═\n",
              "                      ║ \n",
              " c_1: 0 ══════════════╩═\n",
              "                        </pre>"
            ],
            "text/plain": [
              "        ┌───┐     ┌─┐   \n",
              "q_0: |0>┤ X ├──■──┤M├───\n",
              "        └───┘┌─┴─┐└╥┘┌─┐\n",
              "q_1: |0>─────┤ X ├─╫─┤M├\n",
              "             └───┘ ║ └╥┘\n",
              " c_0: 0 ═══════════╩══╬═\n",
              "                      ║ \n",
              " c_1: 0 ══════════════╩═\n",
              "                        "
            ]
          },
          "metadata": {
            "tags": []
          },
          "execution_count": 7
        }
      ]
    },
    {
      "cell_type": "code",
      "metadata": {
        "id": "_rZhEh_NjfIJ",
        "colab_type": "code",
        "colab": {
          "base_uri": "https://localhost:8080/",
          "height": 185
        },
        "outputId": "e2997f50-45cc-4e4c-a419-8d76f2b7204a"
      },
      "source": [
        "# Better representation of same circuit\n",
        "\n",
        "circuit.draw(output=\"mpl\")"
      ],
      "execution_count": 8,
      "outputs": [
        {
          "output_type": "execute_result",
          "data": {
            "image/png": "[encoded data removed]",
            "text/plain": [
              "<Figure size 418.992x204.68 with 1 Axes>"
            ]
          },
          "metadata": {
            "tags": []
          },
          "execution_count": 8
        }
      ]
    },
    {
      "cell_type": "markdown",
      "metadata": {
        "id": "4UoTFO26j-t_",
        "colab_type": "text"
      },
      "source": [
        "We can run the program either on a quantum machine or on a simulator.\n",
        "For that I tried using IBM Q processors which includes some machines and simulators to perform quantum logic. You can also use them.\n",
        "\n",
        "\n",
        "1.   Go to https://quantum-computing.ibm.com\n",
        "2.   Register yourself (I would recommend to register using google account).\n",
        "3.   Click on profile picture.\n",
        "4.   Go to My Account.\n",
        "5.   On account page, below your name, click verify email. Verify it.\n",
        "6.   On same page click on Copy token.\n",
        "7.   Create a text file (token.txt) in same directory where you are running this program.\n",
        "8.   Paste the token number in **token.txt** file and save it.\n",
        "\n",
        "\n",
        "\n"
      ]
    },
    {
      "cell_type": "code",
      "metadata": {
        "id": "w2_T-eQHj7Na",
        "colab_type": "code",
        "colab": {}
      },
      "source": [
        "#Creating Connection with google drive\n",
        "\n",
        "from google.colab import drive\n",
        "drive.mount('/gdrive')\n",
        "%cd /gdrive"
      ],
      "execution_count": 0,
      "outputs": []
    },
    {
      "cell_type": "code",
      "metadata": {
        "id": "oJkWCKsqkkp9",
        "colab_type": "code",
        "colab": {}
      },
      "source": [
        "from qiskit import IBMQ\n",
        "\n",
        "# Reading token.txt file from the appropriate directory\n",
        "IBMQ.save_account(open(\"/gdrive/My Drive/Colab Notebooks/token.txt\",\"r\").read())"
      ],
      "execution_count": 0,
      "outputs": []
    },
    {
      "cell_type": "code",
      "metadata": {
        "id": "jl9FJSczkqFD",
        "colab_type": "code",
        "colab": {
          "base_uri": "https://localhost:8080/",
          "height": 34
        },
        "outputId": "9a82988b-3c38-4f01-bb6f-70fbd0008b2e"
      },
      "source": [
        "IBMQ.load_account()"
      ],
      "execution_count": 11,
      "outputs": [
        {
          "output_type": "execute_result",
          "data": {
            "text/plain": [
              "<AccountProvider for IBMQ(hub='ibm-q', group='open', project='main')>"
            ]
          },
          "metadata": {
            "tags": []
          },
          "execution_count": 11
        }
      ]
    },
    {
      "cell_type": "code",
      "metadata": {
        "id": "E-eACXdckw0C",
        "colab_type": "code",
        "colab": {}
      },
      "source": [
        "provider = IBMQ.get_provider(\"ibm-q\")"
      ],
      "execution_count": 0,
      "outputs": []
    },
    {
      "cell_type": "code",
      "metadata": {
        "id": "ACHpTGs4kx4s",
        "colab_type": "code",
        "colab": {
          "base_uri": "https://localhost:8080/",
          "height": 170
        },
        "outputId": "5325b2cd-27c0-4002-a4b5-593b2cfb126b"
      },
      "source": [
        "for machine_or_simulator in provider.backends():\n",
        "  try:\n",
        "    qubit_count=len(machine_or_simulator.properties().qubits)\n",
        "  except:\n",
        "    qubit_count=\"simulated\"\n",
        "  \n",
        "  print(f\"{machine_or_simulator.name()} has {machine_or_simulator.status().pending_jobs} queued and {qubit_count} qubits\")\n"
      ],
      "execution_count": 13,
      "outputs": [
        {
          "output_type": "stream",
          "text": [
            "ibmq_qasm_simulator has 0 queued and simulated qubits\n",
            "ibmqx2 has 2 queued and 5 qubits\n",
            "ibmq_16_melbourne has 4 queued and 15 qubits\n",
            "ibmq_vigo has 8 queued and 5 qubits\n",
            "ibmq_ourense has 4 queued and 5 qubits\n",
            "ibmq_london has 2 queued and 5 qubits\n",
            "ibmq_burlington has 2 queued and 5 qubits\n",
            "ibmq_essex has 2 queued and 5 qubits\n",
            "ibmq_armonk has 1 queued and 1 qubits\n"
          ],
          "name": "stdout"
        }
      ]
    },
    {
      "cell_type": "markdown",
      "metadata": {
        "id": "gZCRjXq5k74K",
        "colab_type": "text"
      },
      "source": [
        "As you can see we have received the details about IBM Q quantum processors and simulators. \n",
        "\n",
        "We can consider any of them to run our program. \n",
        "\n",
        "If we try to run it on a simulator we will get almost a perfect result.\n",
        "\n",
        "I would like to run it on a machine to get a better idea about processing and output, the result will not be perfect because of quantum errors which arises due to presence of noise during processing."
      ]
    },
    {
      "cell_type": "code",
      "metadata": {
        "id": "DlkKq6vck5if",
        "colab_type": "code",
        "colab": {
          "base_uri": "https://localhost:8080/",
          "height": 34
        },
        "outputId": "635c424d-975a-41a4-ec18-9905acde0996"
      },
      "source": [
        "from qiskit.tools.monitor import job_monitor \n",
        "\n",
        "we_are_using_a_quantum_computer = provider.get_backend(\"ibmq_london\")\n",
        "\n",
        "#Final command for processing on a quantum computer\n",
        "job = q.execute(circuit, backend=we_are_using_a_quantum_computer , shots=500)\n",
        "\n",
        "job_monitor(job)"
      ],
      "execution_count": 14,
      "outputs": [
        {
          "output_type": "stream",
          "text": [
            "Job Status: job has successfully run\n"
          ],
          "name": "stdout"
        }
      ]
    },
    {
      "cell_type": "code",
      "metadata": {
        "id": "_q38x-L7lNYx",
        "colab_type": "code",
        "colab": {}
      },
      "source": [
        "from qiskit.visualization import plot_histogram\n",
        "\n",
        "result = job.result()\n",
        "counts = result.get_counts(circuit)"
      ],
      "execution_count": 0,
      "outputs": []
    },
    {
      "cell_type": "code",
      "metadata": {
        "id": "pMWrhoq3lQK4",
        "colab_type": "code",
        "colab": {
          "base_uri": "https://localhost:8080/",
          "height": 336
        },
        "outputId": "93bff8be-c224-42b3-d749-57f4b59934aa"
      },
      "source": [
        "plot_histogram([counts])"
      ],
      "execution_count": 16,
      "outputs": [
        {
          "output_type": "execute_result",
          "data": {
            "image/png": "[encoded data removed]",
            "text/plain": [
              "<Figure size 504x360 with 1 Axes>"
            ]
          },
          "metadata": {
            "tags": []
          },
          "execution_count": 16
        }
      ]
    },
    {
      "cell_type": "markdown",
      "metadata": {
        "id": "i2z6TCoElSyb",
        "colab_type": "text"
      },
      "source": [
        "***Our expected result was (1,1) but due to quantum noise we could not get a perfect result.***\n"
      ]
    }
  ]
}